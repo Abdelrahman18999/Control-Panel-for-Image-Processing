{
 "cells": [
  {
   "cell_type": "markdown",
   "metadata": {},
   "source": [
    "*   Build Tkinter APP With the ability to be Complete Image Processing Control Panel with ability to\n",
    "*   Button to Upload image\n",
    "*   Radio Buttons for Red , Green , Blue Color Tracking or None\n",
    "*   Radio Buttons for Binary ,Adaptive , Otsu  Threhsolding or None\n",
    "*   Radio Buttons for Averaging , Gaussain , Median Blurring or None\n",
    "*   Button for Applying Transformation"
   ]
  },
  {
   "cell_type": "code",
   "execution_count": 39,
   "metadata": {},
   "outputs": [],
   "source": [
    "import cv2\n",
    "import numpy as np\n",
    "import matplotlib.pyplot as plt\n",
    "from tkinter import *\n",
    "from tkinter import filedialog\n",
    "from PIL import ImageTk, Image"
   ]
  },
  {
   "cell_type": "markdown",
   "metadata": {},
   "source": [
    "# The Main Functions In My Control Panel"
   ]
  },
  {
   "cell_type": "markdown",
   "metadata": {},
   "source": [
    "## `select_image` funcion"
   ]
  },
  {
   "cell_type": "code",
   "execution_count": 40,
   "metadata": {},
   "outputs": [],
   "source": [
    "def select_image():\n",
    "    global panelA, panelB , gray, imageA\n",
    "    path = filedialog.askopenfilename()\n",
    "\n",
    "    image = cv2.imread(path)\n",
    "    imageA = cv2.cvtColor(image, cv2.COLOR_BGR2RGB) # for panelA\n",
    "    imageB = cv2.cvtColor(image, cv2.COLOR_BGR2RGB) # for panelB\n",
    "    gray = cv2.cvtColor(image, cv2.COLOR_BGR2GRAY) # to use it for applying any filter\n",
    "    \n",
    "    # Resizing the original image and edged image.\n",
    "    imageA = cv2.resize(imageA, (300, 300))\n",
    "    imageB = cv2.resize(imageB, (300, 300))\n",
    "    gray = cv2.resize(gray, (300, 300))\n",
    "\n",
    "    # Convert to PIL format\n",
    "    imageA = Image.fromarray(imageA)\n",
    "    imageB = Image.fromarray(imageB)\n",
    "\n",
    "    # Convert to Tk format\n",
    "    imageA = ImageTk.PhotoImage(imageA)\n",
    "    imageB = ImageTk.PhotoImage(imageB)\n",
    "\n",
    "    if panelA is None or panelB is None :\n",
    "        panelA = Label(image = imageA)\n",
    "        panelA.image = imageA\n",
    "        panelA.pack(side='left', padx=10, pady=10)\n",
    "        \n",
    "        panelB = Label(image = imageB)\n",
    "        panelB.image = imageB\n",
    "        panelB.pack(side='left', padx=15, pady=10)\n",
    "        \n",
    "    else :\n",
    "        panelA.configure(image = imageA)\n",
    "        panelA.image = imageA\n",
    "        \n",
    "        panelB.configure(image = imageB)\n",
    "        panelB.image = imageB"
   ]
  },
  {
   "cell_type": "markdown",
   "metadata": {},
   "source": [
    "## `threshold` function"
   ]
  },
  {
   "cell_type": "code",
   "execution_count": 41,
   "metadata": {},
   "outputs": [],
   "source": [
    "def threshold():\n",
    "    thresh_type = thresholding.get()\n",
    "    global gray\n",
    "    #gray = cv2.cvtColor(gray, cv2.COLOR_RGB2GRAY)\n",
    "    if thresh_type == 1 :\n",
    "        ret, th = cv2.threshold(gray, 127, 255, cv2.THRESH_BINARY) # Binary \n",
    "        \n",
    "    elif thresh_type == 2 :\n",
    "        th = cv2.adaptiveThreshold(gray, 255, cv2.ADAPTIVE_THRESH_GAUSSIAN_C, cv2.THRESH_BINARY, 11, 2) # adaptive\n",
    "\n",
    "    elif thresh_type == 3 :\n",
    "        blur = cv2.GaussianBlur(gray, (5,5), 0.5)\n",
    "        ret, th = cv2.threshold(blur, 0, 255, cv2.THRESH_BINARY+cv2.THRESH_OTSU) #OTSU\n",
    "        \n",
    "    # Convert to PIL format   \n",
    "    th = Image.fromarray(th)\n",
    "    # Convert to Tk format\n",
    "    th = ImageTk.PhotoImage(th)\n",
    "    \n",
    "    # Update panelB\n",
    "    panelB.configure(image=th)\n",
    "    panelB.image = th"
   ]
  },
  {
   "cell_type": "markdown",
   "metadata": {},
   "source": [
    "## `filters` function"
   ]
  },
  {
   "cell_type": "code",
   "execution_count": 42,
   "metadata": {},
   "outputs": [],
   "source": [
    "def filters():\n",
    "    fltr = filtering.get()\n",
    "    global gray\n",
    "    \n",
    "    if fltr == 1 :\n",
    "        blur = cv2.blur(gray, (5,5))\n",
    "    elif fltr == 2 :\n",
    "        blur = cv2.GaussianBlur(gray, (5,5), 0.5)\n",
    "    elif fltr == 3 :\n",
    "        blur = cv2.medianBlur(gray, 5)\n",
    "        \n",
    "    blur = Image.fromarray(blur)\n",
    "    blur = ImageTk.PhotoImage(blur)\n",
    "    \n",
    "    panelB.configure(image = blur)\n",
    "    panelB.image = blur"
   ]
  },
  {
   "cell_type": "markdown",
   "metadata": {},
   "source": [
    "## `color_tracking` function"
   ]
  },
  {
   "cell_type": "code",
   "execution_count": 43,
   "metadata": {},
   "outputs": [],
   "source": [
    "    \n",
    "def colors():\n",
    "    color = color_tracking.get()\n",
    "    cap = cv2.VideoCapture(2)\n",
    "    \n",
    "    while True :\n",
    "        ret, frame = cap.read()\n",
    "        hsv = cv2.cvtColor(frame, cv2.COLOR_BGR2HSV)\n",
    "    \n",
    "        # define lower and upper limit of the object color choosen\n",
    "        if color == 1 :\n",
    "            upper_limit = np.array([0 + 15, 255, 255])\n",
    "            lower_limit = np.array([0 - 15, 50, 50])\n",
    "        \n",
    "        elif color == 3 :\n",
    "            upper_limit = np.array([120 + 15, 255, 255])\n",
    "            lower_limit = np.array([120 - 15, 50, 50])\n",
    "    \n",
    "        elif color == 2 :\n",
    "            upper_limit = np.array([60 + 15, 255, 130])\n",
    "            lower_limit = np.array([60 - 15, 50, 50])\n",
    "        \n",
    "        # Threshold the HSV image to get only choosen color\n",
    "        mask = cv2.inRange(hsv, lower_limit, upper_limit)  # Black and Wight\n",
    "        res = cv2.bitwise_and(frame,frame, mask= mask)\n",
    "        \n",
    "        cv2.imshow('Frame', frame)\n",
    "        #cv2.imshow('Mask', mask)\n",
    "        cv2.imshow('Result', res)\n",
    "        \n",
    "        if cv2.waitKey(5) & 0XFF == 27 :\n",
    "            break\n",
    "        \n",
    "    cap.release()\n",
    "    cv2.destroyAllWindows()"
   ]
  },
  {
   "cell_type": "markdown",
   "metadata": {},
   "source": [
    "## `apply` function"
   ]
  },
  {
   "cell_type": "code",
   "execution_count": 44,
   "metadata": {},
   "outputs": [],
   "source": [
    "def apply():\n",
    "    \n",
    "    color = color_tracking.get()\n",
    "    thresh_type = thresholding.get()\n",
    "    fltr = filtering.get()\n",
    "    \n",
    "    #print(color)\n",
    "    #print(thresh_type)\n",
    "    \n",
    "    if (color == 1) or (color == 2) or (color == 3):\n",
    "        colors()\n",
    "    elif color == 4 :\n",
    "        pass\n",
    "      \n",
    "    if (thresh_type == 1) or (thresh_type == 2) or (thresh_type == 3) :\n",
    "        threshold()\n",
    "    elif thresh_type == 4 :\n",
    "        pass\n",
    "    \n",
    "    if (fltr == 1) or (fltr == 2) or (fltr == 3) :\n",
    "        filters()\n",
    "    elif fltr == 4 :\n",
    "        pass"
   ]
  },
  {
   "cell_type": "code",
   "execution_count": 47,
   "metadata": {},
   "outputs": [],
   "source": [
    "# initialize the window toolkit along with the two image panels\n",
    "root = Tk()\n",
    "panelA = None\n",
    "panelB = None\n",
    "# create a button, then when pressed, will trigger a file chooser\n",
    "# dialog and allow the user to select an input image; then add the\n",
    "# button the GUI\n",
    "btn = Button(root, text=\"Select an image\", command=select_image) # yourapp , text ,  binded function\n",
    "btn.pack(side=\"bottom\", fill=\"both\", expand=\"yes\", padx=\"10\", pady=\"10\") #  Localization\n",
    "\n",
    "# Radio buttons for thresholding\n",
    "thresholding = IntVar()\n",
    "\n",
    "binary = Radiobutton(root, text=\"Binary Thresholding\", variable=thresholding, value= 1)\n",
    "adaptive = Radiobutton(root, text=\"Adaptive Thresholding\", variable=thresholding, value= 2)\n",
    "otsu = Radiobutton(root, text=\"OTSU Thresholding\", variable=thresholding, value= 3)\n",
    "nothing_th = Radiobutton(root, text=\"None\", variable=thresholding, value= 4)\n",
    "\n",
    "binary.pack(side='right', fill='both', expand='yes', padx=3, pady=3)\n",
    "adaptive.pack(side='right', fill='both', expand='yes', padx=5, pady=5)\n",
    "otsu.pack(side='right', fill='both', expand='yes', padx=7, pady=7)\n",
    "nothing_th.pack(side='right', fill='both', expand='yes', padx=9, pady=9)\n",
    "\n",
    "# Radio buttons for tracking color\n",
    "color_tracking = IntVar()\n",
    "\n",
    "red = Radiobutton(root, text=\"Red\", variable=color_tracking, value= 1)\n",
    "green = Radiobutton(root, text=\"Green\", variable=color_tracking, value= 2)\n",
    "blue = Radiobutton(root, text=\"Blue\", variable=color_tracking, value= 3)\n",
    "nothing_tr = Radiobutton(root, text=\"None\", variable=color_tracking, value= 4)\n",
    "\n",
    "red.pack(side='bottom', fill='both', expand='yes', padx=3, pady=3)\n",
    "green.pack(side='bottom', fill='both', expand='yes', padx=5, pady=5)\n",
    "blue.pack(side='bottom', fill='both', expand='yes', padx=7, pady=7)\n",
    "nothing_tr.pack(side='bottom', fill='both', expand='yes', padx=9, pady=9)\n",
    "\n",
    "# Radio buttons for filtering\n",
    "filtering = IntVar()\n",
    "\n",
    "average = Radiobutton(root, text=\"Average Filter\", variable=filtering, value= 1)\n",
    "gaussian = Radiobutton(root, text=\"Gaussian Filter\", variable=filtering, value= 2)\n",
    "median = Radiobutton(root, text=\"Median Filter\", variable=filtering, value= 3)\n",
    "nothing_f = Radiobutton(root, text=\"None\", variable=filtering, value= 4)\n",
    "\n",
    "average.pack(side='right', fill='both', expand='yes', padx=3, pady=6)\n",
    "gaussian.pack(side='right', fill='both', expand='yes', padx=5, pady=8)\n",
    "median.pack(side='right', fill='both', expand='yes', padx=7, pady=10)\n",
    "nothing_f.pack(side='right', fill='both', expand='yes', padx=9, pady=12)\n",
    "\n",
    "# Apply\n",
    "applybtn = Button(root, text=\"Apply\", command=apply) # yourapp , text ,  binded function\n",
    "applybtn.pack(side=\"bottom\", fill=\"both\", expand=\"yes\", padx=\"11\", pady=\"11\") #  Localization\n",
    "\n",
    "\n",
    "# kick off the GUI\n",
    "root.mainloop()"
   ]
  },
  {
   "cell_type": "code",
   "execution_count": null,
   "metadata": {},
   "outputs": [],
   "source": []
  }
 ],
 "metadata": {
  "kernelspec": {
   "display_name": "Python 3",
   "language": "python",
   "name": "python3"
  },
  "language_info": {
   "codemirror_mode": {
    "name": "ipython",
    "version": 3
   },
   "file_extension": ".py",
   "mimetype": "text/x-python",
   "name": "python",
   "nbconvert_exporter": "python",
   "pygments_lexer": "ipython3",
   "version": "3.8.5"
  }
 },
 "nbformat": 4,
 "nbformat_minor": 4
}
